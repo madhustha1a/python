{
 "cells": [
  {
   "cell_type": "code",
   "execution_count": 1,
   "metadata": {},
   "outputs": [
    {
     "name": "stdout",
     "output_type": "stream",
     "text": [
      "hello\n",
      "hello\n"
     ]
    }
   ],
   "source": [
    "#DECORATORS\n",
    "def first(msg):\n",
    "    print(msg) \n",
    "first(\"hello\")\n",
    "second=first\n",
    "second(\"hello\")"
   ]
  },
  {
   "cell_type": "code",
   "execution_count": 4,
   "metadata": {},
   "outputs": [
    {
     "data": {
      "text/plain": [
       "4"
      ]
     },
     "execution_count": 4,
     "metadata": {},
     "output_type": "execute_result"
    }
   ],
   "source": [
    "def inc(x):\n",
    "    return x+1\n",
    "def dec(x):\n",
    "    return x-1\n",
    "def operate(func,x):\n",
    "    result=func(x)    #FUNCTION CALLS ANOTHER FUNCTION\n",
    "    return result\n",
    "operate(inc,3)\n",
    "\n"
   ]
  },
  {
   "cell_type": "code",
   "execution_count": 6,
   "metadata": {},
   "outputs": [
    {
     "data": {
      "text/plain": [
       "2"
      ]
     },
     "execution_count": 6,
     "metadata": {},
     "output_type": "execute_result"
    }
   ],
   "source": [
    "def inc(x):\n",
    "    return x+1\n",
    "def dec(x):          #FUNCTION CALLS ANOTHER FUNCTIONS\n",
    "    return x-1\n",
    "def operate(func,x):\n",
    "    result=func(x)\n",
    "    return result\n",
    "operate(dec,3)"
   ]
  },
  {
   "cell_type": "code",
   "execution_count": 4,
   "metadata": {},
   "outputs": [
    {
     "name": "stdout",
     "output_type": "stream",
     "text": [
      "iam ordinary\n"
     ]
    }
   ],
   "source": [
    "def make_pretty(func):\n",
    "    def inner():\n",
    "        print(\"Iam decorated\")\n",
    "        func()\n",
    "    inner()\n",
    "def ordinary():\n",
    "    print(\"iam ordinary\")\n",
    "ordinary()\n"
   ]
  },
  {
   "cell_type": "code",
   "execution_count": 8,
   "metadata": {},
   "outputs": [
    {
     "name": "stdout",
     "output_type": "stream",
     "text": [
      "iam ordinary\n"
     ]
    }
   ],
   "source": [
    "def make_pretty(func):\n",
    "    def inner():\n",
    "        print(\"Iam decorated\")\n",
    "        #func()\n",
    "    inner()\n",
    "def ordinary():\n",
    "    print(\"iam ordinary\")\n",
    "ordinary()\n"
   ]
  },
  {
   "cell_type": "code",
   "execution_count": 1,
   "metadata": {},
   "outputs": [
    {
     "name": "stdout",
     "output_type": "stream",
     "text": [
      "Iam decorated\n",
      "iam ordinary\n"
     ]
    },
    {
     "data": {
      "text/plain": [
       "<function __main__.ordinary()>"
      ]
     },
     "execution_count": 1,
     "metadata": {},
     "output_type": "execute_result"
    }
   ],
   "source": [
    "def make_pretty(func):\n",
    "    def inner():\n",
    "        print(\"Iam decorated\")\n",
    "        return func() #important function with return\n",
    "    return inner\n",
    "    \n",
    "def ordinary():              #FUNCTION CALL WITH CLOSURE\n",
    "    print(\"iam ordinary\")\n",
    "    return ordinary\n",
    "pret=make_pretty(ordinary)\n",
    "pret()"
   ]
  },
  {
   "cell_type": "code",
   "execution_count": 13,
   "metadata": {},
   "outputs": [
    {
     "name": "stdout",
     "output_type": "stream",
     "text": [
      "Iam decorated\n",
      "iam ordinary\n"
     ]
    }
   ],
   "source": [
    "def make_pretty(func):\n",
    "    def inner():\n",
    "        print(\"Iam decorated\")\n",
    "        func()\n",
    "    inner()                         #FUNCTION CALL WITHOUT CLOSURE\n",
    "def ordinary():\n",
    "    print(\"iam ordinary\")\n",
    "\n",
    "make_pretty(ordinary)"
   ]
  },
  {
   "cell_type": "code",
   "execution_count": 7,
   "metadata": {},
   "outputs": [
    {
     "name": "stdout",
     "output_type": "stream",
     "text": [
      "Iam decorated\n",
      "iam ordinary\n"
     ]
    },
    {
     "ename": "TypeError",
     "evalue": "'NoneType' object is not callable",
     "output_type": "error",
     "traceback": [
      "\u001b[1;31m---------------------------------------------------------------------------\u001b[0m",
      "\u001b[1;31mTypeError\u001b[0m                                 Traceback (most recent call last)",
      "\u001b[1;32m<ipython-input-7-6fbc032319d4>\u001b[0m in \u001b[0;36m<module>\u001b[1;34m()\u001b[0m\n\u001b[0;32m      8\u001b[0m \u001b[1;33m\u001b[0m\u001b[0m\n\u001b[0;32m      9\u001b[0m \u001b[0mpretty\u001b[0m\u001b[1;33m=\u001b[0m\u001b[0mmake_pretty\u001b[0m\u001b[1;33m(\u001b[0m\u001b[0mordinary\u001b[0m\u001b[1;33m)\u001b[0m\u001b[1;33m\u001b[0m\u001b[0m\n\u001b[1;32m---> 10\u001b[1;33m \u001b[0mpretty\u001b[0m\u001b[1;33m(\u001b[0m\u001b[1;33m)\u001b[0m\u001b[1;33m\u001b[0m\u001b[0m\n\u001b[0m",
      "\u001b[1;31mTypeError\u001b[0m: 'NoneType' object is not callable"
     ]
    }
   ],
   "source": [
    "def make_pretty(func):\n",
    "    def inner():\n",
    "        print(\"Iam decorated\")\n",
    "        func()                           #FUNCTION CALL IS VERY IMPORTANT HERE TO PRINT THE CONTENTS \n",
    "    inner()                         \n",
    "def ordinary():\n",
    "    print(\"iam ordinary\")\n",
    "\n",
    "pretty=make_pretty(ordinary)\n",
    "pretty()"
   ]
  },
  {
   "cell_type": "code",
   "execution_count": 26,
   "metadata": {},
   "outputs": [
    {
     "name": "stdout",
     "output_type": "stream",
     "text": [
      "iam going to divide 2 and 5\n"
     ]
    },
    {
     "data": {
      "text/plain": [
       "0.4"
      ]
     },
     "execution_count": 26,
     "metadata": {},
     "output_type": "execute_result"
    }
   ],
   "source": [
    "def smart_division(func):\n",
    "    def inner(a,b):\n",
    "        print(\"iam going to divide {0} and {1}\".format(a,b))\n",
    "        if b==0:\n",
    "            print(\"whoops! cannot divide\")   #DIVISION USING FUNCTIONS AND FORMAT SPECIFIERS\n",
    "            \n",
    "        \n",
    "        return func(a,b)\n",
    "    return inner\n",
    "@smart_division\n",
    "def division(a,b):\n",
    "    return a/b\n",
    "division(2,5)"
   ]
  }
 ],
 "metadata": {
  "kernelspec": {
   "display_name": "Python 3",
   "language": "python",
   "name": "python3"
  },
  "language_info": {
   "codemirror_mode": {
    "name": "ipython",
    "version": 3
   },
   "file_extension": ".py",
   "mimetype": "text/x-python",
   "name": "python",
   "nbconvert_exporter": "python",
   "pygments_lexer": "ipython3",
   "version": "3.7.3"
  }
 },
 "nbformat": 4,
 "nbformat_minor": 2
}
