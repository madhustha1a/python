{
 "cells": [
  {
   "cell_type": "code",
   "execution_count": 21,
   "metadata": {},
   "outputs": [
    {
     "name": "stdout",
     "output_type": "stream",
     "text": [
      "144\n"
     ]
    }
   ],
   "source": [
    "alpha=1+3+4+5+6+\\\n",
    "        10+12+13+\\\n",
    "        12+26*3       \n",
    "\"\"\" Usage of black slash to give single line statement in multiline\"\"\"\n",
    "print(alpha)\n"
   ]
  },
  {
   "cell_type": "code",
   "execution_count": 3,
   "metadata": {},
   "outputs": [
    {
     "name": "stdout",
     "output_type": "stream",
     "text": [
      "10\n",
      "Function to double\n",
      "Function to double\n"
     ]
    }
   ],
   "source": [
    "def double(num):\n",
    "    \"\"\"Function to double\"\"\"\n",
    "    print(num*2)\n",
    "    \"\"\" syntax to print docstring inside a function is (FUNCTIONNAME.__DOC__)\"\"\"\n",
    "    print(double.__doc__)\n",
    "    print(double.__doc__)\n",
    "double(5)"
   ]
  },
  {
   "cell_type": "code",
   "execution_count": 4,
   "metadata": {},
   "outputs": [
    {
     "data": {
      "text/plain": [
       "' if we give a=1, the address of 1 is copied to the variable a'"
      ]
     },
     "execution_count": 4,
     "metadata": {},
     "output_type": "execute_result"
    }
   ],
   "source": [
    "a=1\n",
    "\"\"\" if we give a=1, the address of 1 is copied to the variable a\"\"\""
   ]
  },
  {
   "cell_type": "code",
   "execution_count": 26,
   "metadata": {},
   "outputs": [
    {
     "data": {
      "text/plain": [
       "int"
      ]
     },
     "execution_count": 26,
     "metadata": {},
     "output_type": "execute_result"
    }
   ],
   "source": [
    "a=5\n",
    "b=5.3\n",
    "c=\"python\"\n",
    "d=\"c\"\n",
    "type(a)\n",
    "#type(b)\n",
    "#type(c)\n",
    "#type(d)\n",
    "#python is a TYPE INFERRED LANGUAGE . IT IDENTIFY THE DATATYPE BY ITSELF"
   ]
  },
  {
   "cell_type": "code",
   "execution_count": 28,
   "metadata": {},
   "outputs": [],
   "source": [
    "#EXAMPLE PROGRAM THAT CAN BE DONE ONLY ON IDLE USING TWO FILES\n",
    "#A=5\n",
    "#B=5    \"\"\" FILE NAME= class.py\"\"\"\n",
    "  \n",
    "    \n",
    "#print(class.a)\n",
    "#print(class.b)    \"\"\" FILE NAME= main.py\"\"\""
   ]
  },
  {
   "cell_type": "code",
   "execution_count": 29,
   "metadata": {},
   "outputs": [
    {
     "name": "stdout",
     "output_type": "stream",
     "text": [
      "None\n"
     ]
    }
   ],
   "source": [
    "#usage of \"None\"\n",
    "books=\"available\"\n",
    "papers= None\n",
    "def books(x):\n",
    "    if(x==books):\n",
    "        print(\"books are not available\")\n",
    "    else:\n",
    "        print(papers)\n",
    "        \n",
    "books(papers)"
   ]
  },
  {
   "cell_type": "code",
   "execution_count": 40,
   "metadata": {},
   "outputs": [
    {
     "name": "stdout",
     "output_type": "stream",
     "text": [
      "apple\n",
      "['apple', 'pineapple', 'orange']\n",
      "['apple', 'orange']\n"
     ]
    }
   ],
   "source": [
    "#LISTS\n",
    "list1=[\"apple\",\"dog\",\"orange\"]\n",
    "print(list1[0])  #list allows indexing\n",
    "list1[1]=\"pineapple\"   #list are mutable\n",
    "print(list1)\n",
    "del(list1[1])#deletion through indexing is ALLOWED\n",
    "print(list1)"
   ]
  },
  {
   "cell_type": "code",
   "execution_count": 2,
   "metadata": {},
   "outputs": [
    {
     "name": "stdout",
     "output_type": "stream",
     "text": [
      "apple\n",
      "('apple', 'dog', 'orange')\n"
     ]
    }
   ],
   "source": [
    "#TUPLE\n",
    "tuple1=(\"apple\",\"dog\",\"orange\")\n",
    "print(tuple1[0])#tuple allows indexing\n",
    "#tuple1[1]=\"pineapple\"#tuple are immutable\n",
    "#(tuple1)#del(tuple1[1])#deletion through indexing is NOT ALLOWED\n",
    "#del(tuple[1])\n",
    "print(tuple1)"
   ]
  },
  {
   "cell_type": "code",
   "execution_count": 44,
   "metadata": {},
   "outputs": [
    {
     "name": "stdout",
     "output_type": "stream",
     "text": [
      "apple\n",
      "{1: 'apple', 2: 'pineapple', 3: 'orange'}\n",
      "{2: 'pineapple', 3: 'orange'}\n"
     ]
    }
   ],
   "source": [
    "#DICTIONARY\n",
    "dict1={1:\"apple\",2:\"dog\",3:\"orange\"}\n",
    "print(dict1[1])#dictionary allow indexing only through KEYS\n",
    "dict1[2]=\"pineapple\"#dictionary is mutable \n",
    "print(dict1)\n",
    "del(dict1[1])#deletion through keys are ALLOWED\n",
    "print(dict1)"
   ]
  },
  {
   "cell_type": "code",
   "execution_count": 4,
   "metadata": {},
   "outputs": [
    {
     "name": "stdout",
     "output_type": "stream",
     "text": [
      "{'apple', 'dog', 'orange'}\n",
      "{'apple', 'dog', 'orange'}\n"
     ]
    }
   ],
   "source": [
    "#SETS\n",
    "set1={\"apple\",\"dog\",\"orange\"}\n",
    "#print(set1[0])#sets neither supports indexing nor supports assignment\n",
    "#set1[1]=\"pineapple\"\n",
    "print(set1)\n",
    "#del(set1[1])#deletion not allowed\n",
    "print(set1)"
   ]
  },
  {
   "cell_type": "code",
   "execution_count": 2,
   "metadata": {},
   "outputs": [
    {
     "name": "stdout",
     "output_type": "stream",
     "text": [
      "e\n"
     ]
    }
   ],
   "source": [
    "#2D LIST\n",
    "l=[\"hello\",[1,2,3],\"dog\"]\n",
    "print(l[0][1])"
   ]
  },
  {
   "cell_type": "code",
   "execution_count": 14,
   "metadata": {},
   "outputs": [
    {
     "name": "stdout",
     "output_type": "stream",
     "text": [
      "[1, 2, 3, 5, 6]\n"
     ]
    }
   ],
   "source": [
    "#A WAY OF APPENDING ELEMENTS IN A LIST\n",
    "odd=[1,2,3]\n",
    "print(odd+[5,6])"
   ]
  },
  {
   "cell_type": "code",
   "execution_count": 6,
   "metadata": {},
   "outputs": [
    {
     "name": "stdout",
     "output_type": "stream",
     "text": [
      "[1, 2, 3, 1, 2, 3, 1, 2, 3]\n"
     ]
    }
   ],
   "source": [
    "print(odd*3) #A WAY OF REPEATING ELEMENTS IN THE LIST           "
   ]
  },
  {
   "cell_type": "code",
   "execution_count": 16,
   "metadata": {},
   "outputs": [
    {
     "name": "stdout",
     "output_type": "stream",
     "text": [
      "[2, 3]\n"
     ]
    }
   ],
   "source": [
    "#DEL FUNCTIONS\n",
    "odd=[1,2,3]\n",
    "del odd[0]\n",
    "print(odd)"
   ]
  },
  {
   "cell_type": "code",
   "execution_count": 20,
   "metadata": {},
   "outputs": [
    {
     "ename": "NameError",
     "evalue": "name 'odd' is not defined",
     "output_type": "error",
     "traceback": [
      "\u001b[1;31m---------------------------------------------------------------------------\u001b[0m",
      "\u001b[1;31mNameError\u001b[0m                                 Traceback (most recent call last)",
      "\u001b[1;32m<ipython-input-20-197654e236cf>\u001b[0m in \u001b[0;36m<module>\u001b[1;34m()\u001b[0m\n\u001b[0;32m      1\u001b[0m \u001b[0modd\u001b[0m\u001b[1;33m=\u001b[0m\u001b[1;33m[\u001b[0m\u001b[1;36m1\u001b[0m\u001b[1;33m,\u001b[0m\u001b[1;36m2\u001b[0m\u001b[1;33m,\u001b[0m\u001b[1;36m3\u001b[0m\u001b[1;33m]\u001b[0m\u001b[1;33m\u001b[0m\u001b[0m\n\u001b[0;32m      2\u001b[0m \u001b[1;32mdel\u001b[0m \u001b[0modd\u001b[0m\u001b[1;33m\u001b[0m\u001b[0m\n\u001b[1;32m----> 3\u001b[1;33m \u001b[0mprint\u001b[0m\u001b[1;33m(\u001b[0m\u001b[0modd\u001b[0m\u001b[1;33m)\u001b[0m\u001b[1;33m\u001b[0m\u001b[0m\n\u001b[0m",
      "\u001b[1;31mNameError\u001b[0m: name 'odd' is not defined"
     ]
    }
   ],
   "source": [
    "odd=[1,2,3]\n",
    "del odd\n",
    "print(odd) #"
   ]
  },
  {
   "cell_type": "code",
   "execution_count": 24,
   "metadata": {},
   "outputs": [
    {
     "name": "stdout",
     "output_type": "stream",
     "text": [
      "[2, 3]\n"
     ]
    }
   ],
   "source": [
    "#REMOVE FUNCTION\n",
    "odd=[1,2,3]            #REMOVE FUNCTION TAKES ELEMENT AS THE ARGUMENT\n",
    "odd.remove(1)\n",
    "print(odd)"
   ]
  },
  {
   "cell_type": "code",
   "execution_count": 25,
   "metadata": {},
   "outputs": [
    {
     "name": "stdout",
     "output_type": "stream",
     "text": [
      "[2, 3]\n"
     ]
    }
   ],
   "source": [
    "#REMOVE FUNCTION\n",
    "odd=[1,2,3]\n",
    "odd.remove(1)\n",
    "print(odd)"
   ]
  },
  {
   "cell_type": "code",
   "execution_count": 28,
   "metadata": {},
   "outputs": [
    {
     "name": "stdout",
     "output_type": "stream",
     "text": [
      "[1, 3]\n"
     ]
    }
   ],
   "source": [
    "#REMOVE FUNCTION\n",
    "odd=[1,2,3]\n",
    "odd.pop(1)\n",
    "print(odd)             #POP FUNCTION TAKES INDEX AS THE ARGUMENT"
   ]
  },
  {
   "cell_type": "code",
   "execution_count": 30,
   "metadata": {},
   "outputs": [
    {
     "name": "stdout",
     "output_type": "stream",
     "text": [
      "[1, 2]\n"
     ]
    }
   ],
   "source": [
    "#REMOVE FUNCTION\n",
    "odd=[1,2,3]\n",
    "odd.pop(2)\n",
    "print(odd)             #POP FUNCTION TAKES INDEX AS THE ARGUMENT"
   ]
  },
  {
   "cell_type": "code",
   "execution_count": 48,
   "metadata": {},
   "outputs": [
    {
     "name": "stdout",
     "output_type": "stream",
     "text": [
      "[]\n"
     ]
    }
   ],
   "source": [
    "#CLEAR FUNCTION\n",
    "odd=[1,2,3]\n",
    "odd.clear()      #CLEARS EVERY ELEMENT BUT NOT THE LIST\n",
    "print(odd)"
   ]
  },
  {
   "cell_type": "code",
   "execution_count": 49,
   "metadata": {},
   "outputs": [
    {
     "name": "stdout",
     "output_type": "stream",
     "text": [
      "[4]\n"
     ]
    }
   ],
   "source": [
    "#APPEND FUNCTION\n",
    "odd.append(4)   #since the list odd is cleared it has only one element, if we again run the program two 4s will be there\n",
    "print(odd)"
   ]
  },
  {
   "cell_type": "code",
   "execution_count": 50,
   "metadata": {},
   "outputs": [
    {
     "name": "stdout",
     "output_type": "stream",
     "text": [
      "[4, 5, 6, 7]\n"
     ]
    }
   ],
   "source": [
    "#EXTEND FUNCTION\n",
    "odd.extend([5,6,7])\n",
    "print(odd)"
   ]
  },
  {
   "cell_type": "code",
   "execution_count": 61,
   "metadata": {},
   "outputs": [
    {
     "name": "stdout",
     "output_type": "stream",
     "text": [
      "[6, 1, 2, 3]\n"
     ]
    }
   ],
   "source": [
    "#INSERT FUNCTION\n",
    "odd=[1,2,3]\n",
    "odd.insert(0,6)\n",
    "print(odd)"
   ]
  },
  {
   "cell_type": "code",
   "execution_count": 56,
   "metadata": {},
   "outputs": [
    {
     "name": "stdout",
     "output_type": "stream",
     "text": [
      "[1, 2, 3, 2]\n"
     ]
    }
   ],
   "source": [
    "odd=[1,2,3]\n",
    "odd.insert(3,2)\n",
    "print(odd)"
   ]
  },
  {
   "cell_type": "code",
   "execution_count": 60,
   "metadata": {},
   "outputs": [
    {
     "name": "stdout",
     "output_type": "stream",
     "text": [
      "[1, 2, 3, [1, 2, 3, 4, 5]]\n"
     ]
    }
   ],
   "source": [
    "odd=[1,2,3]\n",
    "odd.insert(3,[1,2,3,4,5])\n",
    "print(odd)"
   ]
  },
  {
   "cell_type": "code",
   "execution_count": 66,
   "metadata": {},
   "outputs": [
    {
     "name": "stdout",
     "output_type": "stream",
     "text": [
      "[3, 2, 1]\n"
     ]
    }
   ],
   "source": [
    "#REVERSE FUNCTION\n",
    "odd=[1,2,3]\n",
    "odd.reverse()\n",
    "print(odd)"
   ]
  },
  {
   "cell_type": "code",
   "execution_count": 71,
   "metadata": {},
   "outputs": [
    {
     "name": "stdout",
     "output_type": "stream",
     "text": [
      "[1, 2, 3]\n"
     ]
    }
   ],
   "source": [
    "#COPY FUNCTION\n",
    "odd=[1,2,3]\n",
    "odd1=odd.copy()\n",
    "print(odd1)"
   ]
  },
  {
   "cell_type": "code",
   "execution_count": 74,
   "metadata": {},
   "outputs": [
    {
     "name": "stdout",
     "output_type": "stream",
     "text": [
      "[-3, -2, 1, 1, 2, 3]\n"
     ]
    }
   ],
   "source": [
    "#SORT FUNCTION\n",
    "odd=[1,2,3,1,-2,-3]\n",
    "odd.sort()\n",
    "print(odd)"
   ]
  },
  {
   "cell_type": "code",
   "execution_count": 80,
   "metadata": {},
   "outputs": [
    {
     "data": {
      "text/plain": [
       "2"
      ]
     },
     "execution_count": 80,
     "metadata": {},
     "output_type": "execute_result"
    }
   ],
   "source": [
    "#COUNT FUNCTION\n",
    "odd=[1,2,3,1,-2,-3]\n",
    "odd.count(1)"
   ]
  },
  {
   "cell_type": "code",
   "execution_count": 83,
   "metadata": {},
   "outputs": [
    {
     "name": "stdout",
     "output_type": "stream",
     "text": [
      "[1, 2, 4, 8, 16, 32, 64, 128, 256, 512]\n"
     ]
    }
   ],
   "source": [
    "#LIST COMPREHENSION\n",
    "l=[2**x  for x in range(10)]\n",
    "print(l)"
   ]
  },
  {
   "cell_type": "code",
   "execution_count": 84,
   "metadata": {},
   "outputs": [
    {
     "name": "stdout",
     "output_type": "stream",
     "text": [
      "[1, 4, 16, 64, 256]\n"
     ]
    }
   ],
   "source": [
    "#LIST COMPREHENSION\n",
    "l=[2**x  for x in range(10) if(x%2)==0]\n",
    "print(l)"
   ]
  },
  {
   "cell_type": "code",
   "execution_count": 86,
   "metadata": {},
   "outputs": [
    {
     "data": {
      "text/plain": [
       "float"
      ]
     },
     "execution_count": 86,
     "metadata": {},
     "output_type": "execute_result"
    }
   ],
   "source": [
    "#how to idenify tuple\n",
    "t=(1.5)\n",
    "type(t)"
   ]
  },
  {
   "cell_type": "code",
   "execution_count": 88,
   "metadata": {},
   "outputs": [
    {
     "data": {
      "text/plain": [
       "tuple"
      ]
     },
     "execution_count": 88,
     "metadata": {},
     "output_type": "execute_result"
    }
   ],
   "source": [
    "t=(1.5,)\n",
    "type(t) #FOR ONE ELEMENT IF WE GIVE COMMA IT INDICATES TUPLE"
   ]
  },
  {
   "cell_type": "code",
   "execution_count": 91,
   "metadata": {},
   "outputs": [
    {
     "name": "stdout",
     "output_type": "stream",
     "text": [
      "(1, 2, 3, [9, 5])\n"
     ]
    }
   ],
   "source": [
    "t=(1,2,3,[4,5])\n",
    "t[3][0]=9\n",
    "print(t) #TUPLE SUPPORTS ITEM ASSIGNMENT ONLY WHEN IT WAS GIVEN INSIDE WITH LIST"
   ]
  }
 ],
 "metadata": {
  "kernelspec": {
   "display_name": "Python 3",
   "language": "python",
   "name": "python3"
  },
  "language_info": {
   "codemirror_mode": {
    "name": "ipython",
    "version": 3
   },
   "file_extension": ".py",
   "mimetype": "text/x-python",
   "name": "python",
   "nbconvert_exporter": "python",
   "pygments_lexer": "ipython3",
   "version": "3.7.3"
  }
 },
 "nbformat": 4,
 "nbformat_minor": 2
}
