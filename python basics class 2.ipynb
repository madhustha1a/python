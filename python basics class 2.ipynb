{
 "cells": [
  {
   "cell_type": "code",
   "execution_count": 3,
   "metadata": {},
   "outputs": [
    {
     "name": "stdout",
     "output_type": "stream",
     "text": [
      "hello kite, good morning\n"
     ]
    }
   ],
   "source": [
    "def greet(name,m=\"good morning\"):\n",
    "    print(\"hello\",name+\",\",m)\n",
    "greet(\"kite\")"
   ]
  },
  {
   "cell_type": "code",
   "execution_count": 2,
   "metadata": {},
   "outputs": [
    {
     "name": "stdout",
     "output_type": "stream",
     "text": [
      "('mona', 'kite') goodmorning\n"
     ]
    }
   ],
   "source": [
    "def greet(*names):\n",
    "    print( \"{} goodmorning\".format(names))  #USAGE OF FORMAT SPECIFIERS IS IMPORTANT HERE\n",
    "greet(\"mona\",\"kite\")\n",
    "    "
   ]
  },
  {
   "cell_type": "code",
   "execution_count": 13,
   "metadata": {},
   "outputs": [
    {
     "name": "stdout",
     "output_type": "stream",
     "text": [
      "('mona', 'kite')\n"
     ]
    }
   ],
   "source": [
    "def greet(*names):\n",
    "    print(names)\n",
    "greet(\"mona\",\"kite\")\n",
    "    "
   ]
  },
  {
   "cell_type": "code",
   "execution_count": 14,
   "metadata": {},
   "outputs": [
    {
     "name": "stdout",
     "output_type": "stream",
     "text": [
      "10\n"
     ]
    }
   ],
   "source": [
    "#LAMBDA FUNCTIONS\n",
    "double=lambda x:x*2\n",
    "print(double(5))"
   ]
  },
  {
   "cell_type": "code",
   "execution_count": 16,
   "metadata": {},
   "outputs": [
    {
     "name": "stdout",
     "output_type": "stream",
     "text": [
      "[2, 4]\n"
     ]
    }
   ],
   "source": [
    "#FILTER FUNCTIONS\n",
    "#SYNTAX= list(filter(lambda argument:exp),nameoflist))\n",
    "list1=[1,2,3,4,5]\n",
    "list2=list(filter(lambda x:(x%2==0),list1))\n",
    "print(list2)"
   ]
  },
  {
   "cell_type": "code",
   "execution_count": 17,
   "metadata": {},
   "outputs": [
    {
     "name": "stdout",
     "output_type": "stream",
     "text": [
      "[False, True, False, True, False]\n"
     ]
    }
   ],
   "source": [
    "#MAP FUNCTIONS\n",
    "##SYNTAX= list(map(lambda argument:exp),nameoflist))\n",
    "#FILTER FUNCTIONS\n",
    "#SYNTAX= list(filter(lambda argument:exp),nameoflist))\n",
    "list1=[1,2,3,4,5]\n",
    "list2=list(map(lambda x:(x%2==0),list1))\n",
    "print(list2)"
   ]
  },
  {
   "cell_type": "code",
   "execution_count": 18,
   "metadata": {},
   "outputs": [
    {
     "ename": "NameError",
     "evalue": "name 'y' is not defined",
     "output_type": "error",
     "traceback": [
      "\u001b[1;31m---------------------------------------------------------------------------\u001b[0m",
      "\u001b[1;31mNameError\u001b[0m                                 Traceback (most recent call last)",
      "\u001b[1;32m<ipython-input-18-2410c00139df>\u001b[0m in \u001b[0;36m<module>\u001b[1;34m()\u001b[0m\n\u001b[0;32m      3\u001b[0m     \u001b[0my\u001b[0m\u001b[1;33m=\u001b[0m\u001b[1;34m\"hello\"\u001b[0m\u001b[1;33m\u001b[0m\u001b[0m\n\u001b[0;32m      4\u001b[0m \u001b[0mfood\u001b[0m\u001b[1;33m(\u001b[0m\u001b[1;33m)\u001b[0m\u001b[1;33m\u001b[0m\u001b[0m\n\u001b[1;32m----> 5\u001b[1;33m \u001b[0mprint\u001b[0m\u001b[1;33m(\u001b[0m\u001b[0my\u001b[0m\u001b[1;33m)\u001b[0m\u001b[1;33m\u001b[0m\u001b[0m\n\u001b[0m",
      "\u001b[1;31mNameError\u001b[0m: name 'y' is not defined"
     ]
    }
   ],
   "source": [
    "#CONCEPT OF GLOBAL AND LOCAL\n",
    "def food():\n",
    "    y=\"hello\"\n",
    "food()\n",
    "print(y)"
   ]
  },
  {
   "cell_type": "code",
   "execution_count": 3,
   "metadata": {},
   "outputs": [
    {
     "name": "stdout",
     "output_type": "stream",
     "text": [
      "briyanibriyani\n",
      "local\n"
     ]
    }
   ],
   "source": [
    "#GLOBAL VARIABLE\n",
    "x=\"briyani\"\n",
    "def food():\n",
    "    global x    #WE MUST DECLARE THE VARIABLE AS GLOBAL\n",
    "    y=\"local\"\n",
    "    x=x*2\n",
    "    print(x)\n",
    "    print(y)\n",
    "food()"
   ]
  },
  {
   "cell_type": "code",
   "execution_count": 1,
   "metadata": {},
   "outputs": [
    {
     "name": "stdout",
     "output_type": "stream",
     "text": [
      "2\n",
      "outside main 2\n"
     ]
    }
   ],
   "source": [
    "c=0\n",
    "def food():\n",
    "    global c\n",
    "    c=c+2\n",
    "    print(c)\n",
    "food()\n",
    "print(\"outside main\",c)"
   ]
  }
 ],
 "metadata": {
  "kernelspec": {
   "display_name": "Python 3",
   "language": "python",
   "name": "python3"
  },
  "language_info": {
   "codemirror_mode": {
    "name": "ipython",
    "version": 3
   },
   "file_extension": ".py",
   "mimetype": "text/x-python",
   "name": "python",
   "nbconvert_exporter": "python",
   "pygments_lexer": "ipython3",
   "version": "3.7.3"
  }
 },
 "nbformat": 4,
 "nbformat_minor": 2
}
